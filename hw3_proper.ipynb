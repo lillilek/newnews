{
 "cells": [
  {
   "cell_type": "code",
   "execution_count": 5,
   "id": "94ae6964-3c10-4eec-a560-38b1aacfab5f",
   "metadata": {},
   "outputs": [
    {
     "name": "stdout",
     "output_type": "stream",
     "text": [
      "Requirement already satisfied: flask in c:\\users\\user\\anaconda3\\lib\\site-packages (2.2.5)\n",
      "Requirement already satisfied: flask-sqlalchemy in c:\\users\\user\\anaconda3\\lib\\site-packages (3.1.1)\n",
      "Requirement already satisfied: Werkzeug>=2.2.2 in c:\\users\\user\\anaconda3\\lib\\site-packages (from flask) (2.2.3)\n",
      "Requirement already satisfied: Jinja2>=3.0 in c:\\users\\user\\anaconda3\\lib\\site-packages (from flask) (3.1.3)\n",
      "Requirement already satisfied: itsdangerous>=2.0 in c:\\users\\user\\anaconda3\\lib\\site-packages (from flask) (2.0.1)\n",
      "Requirement already satisfied: click>=8.0 in c:\\users\\user\\anaconda3\\lib\\site-packages (from flask) (8.1.7)\n",
      "Requirement already satisfied: sqlalchemy>=2.0.16 in c:\\users\\user\\anaconda3\\lib\\site-packages (from flask-sqlalchemy) (2.0.25)\n",
      "Requirement already satisfied: colorama in c:\\users\\user\\appdata\\roaming\\python\\python311\\site-packages (from click>=8.0->flask) (0.4.6)\n",
      "Requirement already satisfied: MarkupSafe>=2.0 in c:\\users\\user\\anaconda3\\lib\\site-packages (from Jinja2>=3.0->flask) (2.1.3)\n",
      "Requirement already satisfied: typing-extensions>=4.6.0 in c:\\users\\user\\anaconda3\\lib\\site-packages (from sqlalchemy>=2.0.16->flask-sqlalchemy) (4.12.2)\n",
      "Requirement already satisfied: greenlet!=0.4.17 in c:\\users\\user\\anaconda3\\lib\\site-packages (from sqlalchemy>=2.0.16->flask-sqlalchemy) (3.0.1)\n",
      "Note: you may need to restart the kernel to use updated packages.\n"
     ]
    }
   ],
   "source": [
    "pip install flask flask-sqlalchemy"
   ]
  },
  {
   "cell_type": "code",
   "execution_count": 6,
   "id": "cb3e5b46-a909-4293-8bd3-d33ba469302f",
   "metadata": {},
   "outputs": [
    {
     "name": "stdout",
     "output_type": "stream",
     "text": [
      "Requirement already satisfied: nest_asyncio in c:\\users\\user\\appdata\\roaming\\python\\python311\\site-packages (1.5.8)\n",
      "Note: you may need to restart the kernel to use updated packages.\n"
     ]
    }
   ],
   "source": [
    "pip install nest_asyncio"
   ]
  },
  {
   "cell_type": "code",
   "execution_count": 7,
   "id": "c81b375a-1166-4223-ba95-e07baf1e650f",
   "metadata": {},
   "outputs": [],
   "source": [
    "import pandas as pd\n",
    "from flask import Flask, render_template, request\n",
    "from flask_sqlalchemy import SQLAlchemy\n",
    "import nest_asyncio"
   ]
  },
  {
   "cell_type": "code",
   "execution_count": 8,
   "id": "808b507a-2fb6-46b4-a49a-5fa88f59509a",
   "metadata": {},
   "outputs": [],
   "source": [
    "nest_asyncio.apply()"
   ]
  },
  {
   "cell_type": "code",
   "execution_count": 9,
   "id": "99059d23-a3c5-4161-a232-135a077764ea",
   "metadata": {},
   "outputs": [],
   "source": [
    "app = Flask(__name__)\n",
    "app.config['SQLALCHEMY_DATABASE_URI'] = 'sqlite:///news_database.db'\n",
    "app.config['SQLALCHEMY_TRACK_MODIFICATIONS'] = False"
   ]
  },
  {
   "cell_type": "code",
   "execution_count": 10,
   "id": "2490f59d-de9f-45ca-a0d2-56c104d67232",
   "metadata": {},
   "outputs": [],
   "source": [
    "db = SQLAlchemy(app)"
   ]
  },
  {
   "cell_type": "code",
   "execution_count": 11,
   "id": "2bddf0c3-6eff-4479-b540-d94aa0ad7f97",
   "metadata": {},
   "outputs": [],
   "source": [
    "class Article(db.Model):\n",
    "    __tablename__ = 'articles'\n",
    "    id = db.Column(db.Integer, primary_key=True)\n",
    "    header = db.Column(db.String(255), nullable=False)\n",
    "    full_text = db.Column(db.Text, nullable=False)"
   ]
  },
  {
   "cell_type": "code",
   "execution_count": 12,
   "id": "bd3b5a34-19fa-48ed-b577-6181beb2748a",
   "metadata": {},
   "outputs": [],
   "source": [
    "class ArticleMetadata(db.Model):\n",
    "    __tablename__ = 'article_metadata'\n",
    "    id = db.Column(db.Integer, primary_key=True)\n",
    "    article_id = db.Column(db.Integer, db.ForeignKey('articles.id'), nullable=False)\n",
    "    pub_date = db.Column(db.String(50), nullable=False)"
   ]
  },
  {
   "cell_type": "code",
   "execution_count": 13,
   "id": "1db0a3c9-09ce-46ad-803e-d32d1a65f05c",
   "metadata": {},
   "outputs": [],
   "source": [
    "class Category(db.Model):\n",
    "    __tablename__ = 'categories'\n",
    "    id = db.Column(db.Integer, primary_key=True)\n",
    "    name = db.Column(db.String(100), nullable=False)"
   ]
  },
  {
   "cell_type": "code",
   "execution_count": 14,
   "id": "9fb79771-7e1e-47f5-961c-fc70103a1444",
   "metadata": {},
   "outputs": [],
   "source": [
    "class ArticleCategory(db.Model):\n",
    "    __tablename__ = 'article_categories'\n",
    "    id = db.Column(db.Integer, primary_key=True)\n",
    "    article_id = db.Column(db.Integer, db.ForeignKey('articles.id'), nullable=False)\n",
    "    category_id = db.Column(db.Integer, db.ForeignKey('categories.id'), nullable=False)"
   ]
  },
  {
   "cell_type": "code",
   "execution_count": 15,
   "id": "162d1a12-1cce-4166-be66-cdcb06d8175a",
   "metadata": {},
   "outputs": [],
   "source": [
    "def create_app():\n",
    "    with app.app_context():\n",
    "        db.create_all()  # Создаёт все таблицы, если они ещё не существуют\n",
    "    return app"
   ]
  },
  {
   "cell_type": "code",
   "execution_count": 16,
   "id": "43e9e790-ab90-4d42-812b-1fb49672bb8f",
   "metadata": {},
   "outputs": [],
   "source": [
    "df = pd.read_csv(\"news.csv\")"
   ]
  },
  {
   "cell_type": "code",
   "execution_count": 17,
   "id": "c7e64f2b-4ae4-4f03-b5fe-cd2a5fc2387b",
   "metadata": {},
   "outputs": [],
   "source": [
    "with app.app_context():\n",
    "\n",
    "    # Удаляем все предыдущие записи из таблиц\n",
    "    db.session.query(ArticleCategory).delete()\n",
    "    db.session.query(ArticleMetadata).delete()\n",
    "    db.session.query(Category).delete()\n",
    "    db.session.query(Article).delete()\n",
    "    db.session.commit()\n",
    "    \n",
    "    for _, row in df.iterrows():\n",
    "        # 1. Добавляем статью в таблицу Article\n",
    "        article = Article(header=row['header'], full_text=row['full_text'])\n",
    "        db.session.add(article)\n",
    "        db.session.commit()\n",
    "\n",
    "        # 2. Добавляем метаданные статьи в ArticleMetadata\n",
    "        metadata = ArticleMetadata(\n",
    "            article_id=article.id,\n",
    "            pub_date=row['pub_date']\n",
    "        )\n",
    "        db.session.add(metadata)\n",
    "\n",
    "        # 3. Добавляем тег в Category (если его ещё нет)\n",
    "        tag_name = row['tag'].strip()\n",
    "        category = Category.query.filter_by(name=tag_name).first()\n",
    "        if not category:\n",
    "            category = Category(name=tag_name)\n",
    "            db.session.add(category)\n",
    "            db.session.commit()\n",
    "\n",
    "        # 4. Связываем статью с категорией в ArticleCategory\n",
    "        article_category = ArticleCategory(article_id=article.id, category_id=category.id)\n",
    "        db.session.add(article_category)\n",
    "\n",
    "    db.session.commit()  # Сохраняем все изменения"
   ]
  },
  {
   "cell_type": "code",
   "execution_count": 18,
   "id": "679ed024-652f-4777-87b1-1ea091877b48",
   "metadata": {},
   "outputs": [],
   "source": [
    "@app.route(\"/\")\n",
    "def index():\n",
    "    return render_template(\"index.html\")"
   ]
  },
  {
   "cell_type": "code",
   "execution_count": 19,
   "id": "4ecb1db9-5ba6-46c0-af9d-df6454860d8a",
   "metadata": {},
   "outputs": [],
   "source": [
    "@app.route(\"/add\", methods=[\"GET\", \"POST\"])\n",
    "def add_news():\n",
    "    if request.method == \"POST\":\n",
    "        pub_date = request.form[\"pub_date\"]\n",
    "        tag = request.form[\"tag\"]\n",
    "        header = request.form[\"header\"]\n",
    "        full_text = request.form[\"full_text\"]\n",
    "\n",
    "        # Добавляем новость в базу данных\n",
    "        new_article = Article(header=header, full_text=full_text)\n",
    "        db.session.add(new_article)\n",
    "        db.session.commit()\n",
    "\n",
    "        metadata = ArticleMetadata(article_id=new_article.id, pub_date=pub_date)\n",
    "        db.session.add(metadata)\n",
    "\n",
    "        category = Category.query.filter_by(name=tag).first()\n",
    "        if not category:\n",
    "            category = Category(name=tag)\n",
    "            db.session.add(category)\n",
    "            db.session.commit()\n",
    "\n",
    "        article_category = ArticleCategory(article_id=new_article.id, category_id=category.id)\n",
    "        db.session.add(article_category)\n",
    "        db.session.commit()\n",
    "\n",
    "        return render_template(\"success.html\", header=header)\n",
    "    return render_template(\"add_news.html\")"
   ]
  },
  {
   "cell_type": "code",
   "execution_count": 20,
   "id": "800e23c5-32e8-4249-adc2-c3c3e5056f58",
   "metadata": {},
   "outputs": [],
   "source": [
    "@app.route(\"/statistics\")\n",
    "def statistics():\n",
    "    # 1. Общее количество статей\n",
    "    total_articles = Article.query.count()\n",
    "    \n",
    "    # 2. Самый длинный заголовок статьи\n",
    "    longest_title = (\n",
    "    db.session.query(Article.header)\n",
    "    .order_by(db.func.length(Article.header).desc())\n",
    "    .first()\n",
    ")\n",
    "    \n",
    "    # 3. Дата с наибольшим количеством опубликованных статей\n",
    "    most_popular_date = (\n",
    "        db.session.query(\n",
    "            ArticleMetadata.pub_date.label(\"pub_date\"),\n",
    "            db.func.count(ArticleMetadata.article_id).label(\"article_count\")\n",
    "        )\n",
    "        .group_by(ArticleMetadata.pub_date)\n",
    "        .order_by(db.func.count(ArticleMetadata.article_id).desc())\n",
    "        .first()\n",
    "    )\n",
    "\n",
    "    # 4. Общее количество категорий\n",
    "    total_categories = Category.query.count()\n",
    "\n",
    "    # 5. Топ-5 самых частотных тегов\n",
    "    top_tags = (\n",
    "        db.session.query(\n",
    "            Category.name.label(\"tag_name\"),\n",
    "            db.func.count(ArticleCategory.category_id).label(\"tag_count\")\n",
    "        )\n",
    "        .join(ArticleCategory, Category.id == ArticleCategory.category_id)\n",
    "        .group_by(Category.name)\n",
    "        .order_by(db.func.count(ArticleCategory.category_id).desc())\n",
    "        .limit(5)\n",
    "        .all()\n",
    "    )\n",
    "\n",
    "    return render_template(\n",
    "        \"statistics.html\",\n",
    "        total_articles=total_articles,\n",
    "        longest_title=longest_title[0] if longest_title else \"Нет данных\",\n",
    "        most_popular_date=most_popular_date,\n",
    "        total_categories=total_categories,\n",
    "        top_tags=top_tags,\n",
    "    )"
   ]
  },
  {
   "cell_type": "code",
   "execution_count": null,
   "id": "6dab2efc-f7f2-44b5-99eb-144e548893d7",
   "metadata": {},
   "outputs": [
    {
     "name": "stdout",
     "output_type": "stream",
     "text": [
      " * Serving Flask app '__main__'\n",
      " * Debug mode: on\n"
     ]
    },
    {
     "name": "stderr",
     "output_type": "stream",
     "text": [
      "WARNING: This is a development server. Do not use it in a production deployment. Use a production WSGI server instead.\n",
      " * Running on http://127.0.0.1:5000\n",
      "Press CTRL+C to quit\n",
      "127.0.0.1 - - [20/Dec/2024 21:32:34] \"GET / HTTP/1.1\" 200 -\n",
      "127.0.0.1 - - [20/Dec/2024 21:32:34] \"GET /static/images/db_schema.png HTTP/1.1\" 304 -\n",
      "127.0.0.1 - - [20/Dec/2024 21:32:38] \"GET /statistics HTTP/1.1\" 200 -\n"
     ]
    }
   ],
   "source": [
    "if __name__ == \"__main__\":\n",
    "    app.run(debug=True, use_reloader=False)"
   ]
  }
 ],
 "metadata": {
  "kernelspec": {
   "display_name": "Python 3 (ipykernel)",
   "language": "python",
   "name": "python3"
  },
  "language_info": {
   "codemirror_mode": {
    "name": "ipython",
    "version": 3
   },
   "file_extension": ".py",
   "mimetype": "text/x-python",
   "name": "python",
   "nbconvert_exporter": "python",
   "pygments_lexer": "ipython3",
   "version": "3.11.7"
  }
 },
 "nbformat": 4,
 "nbformat_minor": 5
}
